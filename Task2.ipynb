{
 "cells": [
  {
   "cell_type": "markdown",
   "id": "191a403e",
   "metadata": {
    "id": "191a403e"
   },
   "source": [
    "# **Import thư viện**"
   ]
  },
  {
   "cell_type": "code",
   "execution_count": 1,
   "id": "0e045c46",
   "metadata": {
    "executionInfo": {
     "elapsed": 138,
     "status": "ok",
     "timestamp": 1747983240762,
     "user": {
      "displayName": "Phan Phú",
      "userId": "00153198170379898300"
     },
     "user_tz": -420
    },
    "id": "0e045c46"
   },
   "outputs": [],
   "source": [
    "import math\n",
    "import tkinter as tk\n",
    "from tkinter import messagebox"
   ]
  },
  {
   "cell_type": "markdown",
   "id": "4352eb21",
   "metadata": {
    "id": "4352eb21"
   },
   "source": [
    "# **Khởi tạo hằng số**"
   ]
  },
  {
   "cell_type": "code",
   "execution_count": 2,
   "id": "0ca77ba2",
   "metadata": {
    "executionInfo": {
     "elapsed": 21,
     "status": "ok",
     "timestamp": 1747983240774,
     "user": {
      "displayName": "Phan Phú",
      "userId": "00153198170379898300"
     },
     "user_tz": -420
    },
    "id": "0ca77ba2"
   },
   "outputs": [],
   "source": [
    "# Kích thước bàn cờ\n",
    "BOARD_SIZE = 9\n",
    "\n",
    "# Số quân liên tiếp cần để thắng\n",
    "WIN_CONDITION = 4\n",
    "\n",
    "# Ký hiệu ô trống và hai người chơi\n",
    "EMPTY = '.'\n",
    "PLAYER = 'X'\n",
    "COMPUTER = 'O'\n",
    "\n",
    "# Độ sâu tối đa khi tìm kiếm Alpha-Beta\n",
    "DEPTH_LIMIT = 3\n",
    "\n",
    "# Các hướng di chuyển (8 hướng: dọc, ngang, chéo)\n",
    "DIRECTIONS = [(-1, -1), (-1, 0), (-1, 1), (0, -1),\n",
    "              (0, 1), (1, -1), (1, 0), (1, 1)]\n",
    "\n",
    "CELL_SIZE = 40\n",
    "\n",
    "PADDING = 20\n",
    "\n",
    "WINDOW_SIZE = BOARD_SIZE * CELL_SIZE + PADDING * 2"
   ]
  },
  {
   "cell_type": "markdown",
   "id": "346ee4d0",
   "metadata": {
    "id": "346ee4d0"
   },
   "source": [
    "# **CLASS BOARD**"
   ]
  },
  {
   "cell_type": "code",
   "execution_count": 3,
   "id": "ecc575cd",
   "metadata": {
    "executionInfo": {
     "elapsed": 21,
     "status": "ok",
     "timestamp": 1747983240776,
     "user": {
      "displayName": "Phan Phú",
      "userId": "00153198170379898300"
     },
     "user_tz": -420
    },
    "id": "ecc575cd"
   },
   "outputs": [],
   "source": [
    "class Board:\n",
    "    def __init__(self):\n",
    "        # Khởi tạo bàn cờ với tất cả ô là trống\n",
    "        self.board = [[EMPTY for _ in range(BOARD_SIZE)] for _ in range(BOARD_SIZE)]\n",
    "\n",
    "    def display(self):\n",
    "        # In ra bàn cờ hiện tại kèm chỉ số hàng và cột\n",
    "        print(\"  \" + \" \".join(str(i) for i in range(BOARD_SIZE)))\n",
    "        for idx, row in enumerate(self.board):\n",
    "            print(f\"{idx} \" + \" \".join(row))\n",
    "\n",
    "    def is_valid_move(self, row, col):\n",
    "        # Kiểm tra ô (row, col) có hợp lệ (trong bàn cờ và đang trống) hay không\n",
    "        return 0 <= row < BOARD_SIZE and 0 <= col < BOARD_SIZE and self.board[row][col] == EMPTY\n",
    "\n",
    "    def make_move(self, row, col, player):\n",
    "        # Đặt quân của player vào vị trí (row, col)\n",
    "        self.board[row][col] = player\n",
    "\n",
    "    def undo_move(self, row, col):\n",
    "        # Hoàn tác (xóa) quân cờ tại vị trí (row, col) (đặt lại thành trống)\n",
    "        self.board[row][col] = EMPTY\n",
    "\n",
    "    def is_full(self):\n",
    "        # Kiểm tra bàn cờ đã đầy chưa (không còn ô trống)\n",
    "        return all(cell != EMPTY for row in self.board for cell in row)\n",
    "\n",
    "    def check_win(self, player):\n",
    "        # Kiểm tra xem player có thắng không bằng cách dò các chuỗi liên tiếp đủ WIN_CONDITION\n",
    "        for r in range(BOARD_SIZE):\n",
    "            for c in range(BOARD_SIZE):\n",
    "                for dr, dc in DIRECTIONS:\n",
    "                    # Nếu tìm thấy chuỗi đủ dài thì player thắng\n",
    "                    if self.count_in_direction(r, c, dr, dc, player) >= WIN_CONDITION:\n",
    "                        return True\n",
    "        return False\n",
    "\n",
    "    def count_in_direction(self, r, c, dr, dc, player):\n",
    "        # Đếm số quân liên tiếp của player bắt đầu từ (r,c) theo hướng (dr,dc)\n",
    "        count = 0\n",
    "        for i in range(WIN_CONDITION):\n",
    "            nr, nc = r + dr * i, c + dc * i\n",
    "            # Nếu vị trí trong bàn và là quân của player thì tăng đếm\n",
    "            if 0 <= nr < BOARD_SIZE and 0 <= nc < BOARD_SIZE and self.board[nr][nc] == player:\n",
    "                count += 1\n",
    "            else:\n",
    "                break\n",
    "        return count\n",
    "\n",
    "    def get_valid_moves(self):\n",
    "        # Tìm các nước đi trống trong phạm vi 1 ô xung quanh các quân đã đánh\n",
    "        moves = set()\n",
    "        for r in range(BOARD_SIZE):\n",
    "            for c in range(BOARD_SIZE):\n",
    "                if self.board[r][c] != EMPTY:\n",
    "                    for dr in [-1, 0, 1]:\n",
    "                        for dc in [-1, 0, 1]:\n",
    "                            if dr == 0 and dc == 0:\n",
    "                                continue\n",
    "                            nr, nc = r + dr, c + dc\n",
    "                            if 0 <= nr < BOARD_SIZE and 0 <= nc < BOARD_SIZE and self.board[nr][nc] == EMPTY:\n",
    "                                moves.add((nr, nc))\n",
    "        if not moves:\n",
    "            return [(BOARD_SIZE // 2, BOARD_SIZE // 2)]\n",
    "        return list(moves)"
   ]
  },
  {
   "cell_type": "markdown",
   "id": "5623767a",
   "metadata": {
    "id": "5623767a"
   },
   "source": [
    "# **CLASS AI**"
   ]
  },
  {
   "cell_type": "code",
   "execution_count": 4,
   "id": "c6ab12f4",
   "metadata": {
    "executionInfo": {
     "elapsed": 36,
     "status": "ok",
     "timestamp": 1747983240813,
     "user": {
      "displayName": "Phan Phú",
      "userId": "00153198170379898300"
     },
     "user_tz": -420
    },
    "id": "c6ab12f4"
   },
   "outputs": [],
   "source": [
    "class AI:\n",
    "    def __init__(self, board):\n",
    "        # Lưu tham chiếu tới bàn cờ hiện tại\n",
    "        self.board = board\n",
    "\n",
    "    def evaluate_line(self, line, player):\n",
    "        # Đánh giá giá trị một đoạn 4 ô (line) với góc nhìn của player\n",
    "        opp = PLAYER if player == COMPUTER else COMPUTER  # Đối thủ\n",
    "        line_str = ''.join(line)\n",
    "        score = 0\n",
    "\n",
    "        # Nếu player có 4 quân liên tiếp => điểm cao nhất\n",
    "        if player * 4 in line_str:\n",
    "            return 100000\n",
    "        elif player * 3 in line_str:\n",
    "            score += 1000\n",
    "        elif player * 2 in line_str:\n",
    "            score += 100\n",
    "        elif player in line_str:\n",
    "            score += 10\n",
    "\n",
    "        # Nếu đối thủ có 4 quân liên tiếp => điểm âm lớn (nguy hiểm)\n",
    "        if opp * 4 in line_str:\n",
    "            return -100000\n",
    "        elif opp * 3 in line_str:\n",
    "            score -= 800\n",
    "        elif opp * 2 in line_str:\n",
    "            score -= 80\n",
    "        elif opp in line_str:\n",
    "            score -= 8\n",
    "\n",
    "        return score\n",
    "\n",
    "\n",
    "    def evaluate_board(self, player):\n",
    "        # Đánh giá tổng thể bàn cờ với góc nhìn của player\n",
    "        total = 0\n",
    "        b = self.board.board\n",
    "\n",
    "        # Đánh giá theo hàng ngang\n",
    "        for r in range(BOARD_SIZE):\n",
    "            for c in range(BOARD_SIZE - 3):\n",
    "                row = [b[r][c + i] for i in range(4)]\n",
    "                total += self.evaluate_line(row, player)\n",
    "\n",
    "        # Đánh giá theo cột dọc\n",
    "        for c in range(BOARD_SIZE):\n",
    "            for r in range(BOARD_SIZE - 3):\n",
    "                col = [b[r + i][c] for i in range(4)]\n",
    "                total += self.evaluate_line(col, player)\n",
    "\n",
    "        # Đánh giá theo 2 đường chéo (chéo chính và chéo phụ)\n",
    "        for r in range(BOARD_SIZE - 3):\n",
    "            for c in range(BOARD_SIZE - 3):\n",
    "                diag1 = [b[r + i][c + i] for i in range(4)]        # chéo chính\n",
    "                diag2 = [b[r + 3 - i][c + i] for i in range(4)]    # chéo phụ\n",
    "                total += self.evaluate_line(diag1, player)\n",
    "                total += self.evaluate_line(diag2, player)\n",
    "        return total\n",
    "\n",
    "    def sort_moves(self, moves, player):\n",
    "        # Sắp xếp nước đi dựa trên giá trị đánh giá tạm thời để tăng hiệu quả cắt tỉa alpha-beta\n",
    "        def score(move):\n",
    "            r, c = move\n",
    "            self.board.make_move(r, c, player)\n",
    "            val = self.evaluate_board(player)\n",
    "            self.board.undo_move(r, c)             # Hoàn tác\n",
    "            return -val\n",
    "        return sorted(moves, key=score)\n",
    "\n",
    "    def alpha_beta(self, depth, alpha, beta, maximizing_player):\n",
    "        # Thuật toán tìm kiếm Alpha-Beta cắt tỉa\n",
    "        if self.board.check_win(COMPUTER):\n",
    "            return 100000\n",
    "        if self.board.check_win(PLAYER):\n",
    "            return -100000\n",
    "        if depth == 0 or self.board.is_full():\n",
    "            # Đạt độ sâu tối đa hoặc bàn cờ đầy, đánh giá trạng thái hiện tại\n",
    "            return self.evaluate_board(COMPUTER)\n",
    "        # Lấy danh sách nước đi hợp lệ đã được sắp xếp\n",
    "        moves = self.sort_moves(self.board.get_valid_moves(), COMPUTER if maximizing_player else PLAYER)\n",
    "\n",
    "        if maximizing_player:\n",
    "            max_eval = -math.inf\n",
    "            for r, c in moves:\n",
    "                self.board.make_move(r, c, COMPUTER)\n",
    "                eval = self.alpha_beta(depth - 1, alpha, beta, False)\n",
    "                self.board.undo_move(r, c)\n",
    "                max_eval = max(max_eval, eval)\n",
    "                alpha = max(alpha, eval)\n",
    "                if beta <= alpha:   # Cắt tỉa nếu không cần thiết tiếp tục\n",
    "                    break\n",
    "            return max_eval\n",
    "        else:\n",
    "            min_eval = math.inf\n",
    "            for r, c in moves:\n",
    "                self.board.make_move(r, c, PLAYER)\n",
    "                eval = self.alpha_beta(depth - 1, alpha, beta, True)\n",
    "                self.board.undo_move(r, c)\n",
    "                min_eval = min(min_eval, eval)\n",
    "                beta = min(beta, eval)\n",
    "                if beta <= alpha:   # Cắt tỉa\n",
    "                    break\n",
    "            return min_eval\n",
    "\n",
    "    def find_immediate_threats(self, player):\n",
    "        threats = []\n",
    "        opp = PLAYER if player == COMPUTER else COMPUTER\n",
    "\n",
    "        directions = DIRECTIONS\n",
    "        b = self.board.board\n",
    "\n",
    "        for r in range(BOARD_SIZE):\n",
    "            for c in range(BOARD_SIZE):\n",
    "                if b[r][c] != EMPTY:\n",
    "                    continue\n",
    "                for dr, dc in directions:\n",
    "                    # Kiểm tra theo hướng (dr, dc) nếu đặt vào (r,c)\n",
    "                    b[r][c] = player\n",
    "                    line = []\n",
    "                    for i in range(-4, 5):\n",
    "                        nr, nc = r + dr * i, c + dc * i\n",
    "                        if 0 <= nr < BOARD_SIZE and 0 <= nc < BOARD_SIZE:\n",
    "                            line.append(b[nr][nc])\n",
    "                        else:\n",
    "                            line.append('#')  # Ký hiệu biên\n",
    "                    b[r][c] = EMPTY  # Hoàn tác\n",
    "\n",
    "                    line_str = ''.join(line)\n",
    "                    if player * 4 in line_str or player * 3 in line_str:\n",
    "                        threats.append((r, c))\n",
    "                        break\n",
    "        return threats\n",
    "\n",
    "\n",
    "    def best_move(self):\n",
    "        # Ưu tiên chặn nước đi nguy hiểm của đối thủ (nếu có thể thắng ở bước tiếp theo)\n",
    "        opponent_moves = self.board.get_valid_moves()\n",
    "        for r, c in opponent_moves:\n",
    "            self.board.make_move(r, c, PLAYER)\n",
    "            if self.board.check_win(PLAYER):\n",
    "                self.board.undo_move(r, c)\n",
    "                return (r, c)  # Chặn ngay lập tức\n",
    "            self.board.undo_move(r, c)\n",
    "\n",
    "        # Ưu tiên chặn các mối đe dọa (vd: ..XX hoặc .XXX.)\n",
    "        threats = self.find_immediate_threats(PLAYER)\n",
    "        if threats:\n",
    "            return threats[0]\n",
    "\n",
    "\n",
    "        # Tìm nước đi tốt nhất bằng Alpha-Beta\n",
    "        best_val = -math.inf\n",
    "        best = None\n",
    "        moves = self.sort_moves(self.board.get_valid_moves(), COMPUTER)\n",
    "        for r, c in moves:\n",
    "            self.board.make_move(r, c, COMPUTER)\n",
    "            move_val = self.alpha_beta(DEPTH_LIMIT - 1, -math.inf, math.inf, False)\n",
    "            self.board.undo_move(r, c)\n",
    "            if move_val > best_val:\n",
    "                best_val = move_val\n",
    "                best = (r, c)\n",
    "        return best"
   ]
  },
  {
   "cell_type": "markdown",
   "id": "f02e2c4c",
   "metadata": {
    "id": "f02e2c4c"
   },
   "source": [
    "# **CLASS GAME**"
   ]
  },
  {
   "cell_type": "code",
   "execution_count": 5,
   "id": "2f1e416f",
   "metadata": {
    "executionInfo": {
     "elapsed": 27,
     "status": "ok",
     "timestamp": 1747983240842,
     "user": {
      "displayName": "Phan Phú",
      "userId": "00153198170379898300"
     },
     "user_tz": -420
    },
    "id": "2f1e416f"
   },
   "outputs": [],
   "source": [
    "class Game:\n",
    "    def __init__(self):\n",
    "        # Khởi tạo trò chơi với bàn cờ mới và AI, người chơi đi trước\n",
    "        self.board = Board()\n",
    "        self.ai = AI(self.board)\n",
    "        self.turn = PLAYER  # Nếu muốn máy đi trước thì gán COMPUTER\n",
    "\n",
    "    def play(self):\n",
    "        # Vòng lặp chính của trò chơi\n",
    "        while True:\n",
    "            self.board.display()\n",
    "\n",
    "            # Kiểm tra người chơi thắng\n",
    "            if self.board.check_win(PLAYER):\n",
    "                print(\"You win!\")\n",
    "                break\n",
    "            # Kiểm tra máy thắng\n",
    "            if self.board.check_win(COMPUTER):\n",
    "                print(\"Computer wins!\")\n",
    "                break\n",
    "            # Kiểm tra hòa\n",
    "            if self.board.is_full():\n",
    "                print(\"Draw!\")\n",
    "                break\n",
    "\n",
    "            if self.turn == PLAYER:\n",
    "                # Lượt người chơi nhập nước đi\n",
    "                try:\n",
    "                    move = input(\"Enter your move (row col): \")\n",
    "                    row, col = map(int, move.strip().split())\n",
    "                    if not self.board.is_valid_move(row, col):\n",
    "                        print(\"Invalid move. Try again.\")\n",
    "                        continue\n",
    "                    self.board.make_move(row, col, PLAYER)\n",
    "                    self.turn = COMPUTER\n",
    "                except Exception:\n",
    "                    # Nếu nhập sai định dạng hoặc giá trị\n",
    "                    print(\"Invalid input. Try again.\")\n",
    "            else:\n",
    "                # Lượt máy tính\n",
    "                print(\"Computer is thinking...\")\n",
    "                r, c = self.ai.best_move()\n",
    "                self.board.make_move(r, c, COMPUTER)\n",
    "                self.turn = PLAYER"
   ]
  },
  {
   "cell_type": "markdown",
   "id": "247909c9",
   "metadata": {
    "id": "247909c9"
   },
   "source": [
    "# **CLASS GAMEGUI**"
   ]
  },
  {
   "cell_type": "code",
   "execution_count": 6,
   "id": "a623c641",
   "metadata": {
    "executionInfo": {
     "elapsed": 4,
     "status": "ok",
     "timestamp": 1747983241698,
     "user": {
      "displayName": "Phan Phú",
      "userId": "00153198170379898300"
     },
     "user_tz": -420
    },
    "id": "a623c641"
   },
   "outputs": [],
   "source": [
    "class GameGUI:\n",
    "    def __init__(self, root):\n",
    "        self.root = root\n",
    "        self.root.title(\"TIC TAC TOE 9x9\")\n",
    "        self.canvas = tk.Canvas(root, width=WINDOW_SIZE, height=WINDOW_SIZE)\n",
    "        self.canvas.pack()\n",
    "        self.game = Game()\n",
    "        self.canvas.bind(\"<Button-1>\", self.on_click)\n",
    "        self.draw_board()\n",
    "\n",
    "    def draw_board(self):\n",
    "        self.canvas.delete(\"all\")\n",
    "        for i in range(BOARD_SIZE):\n",
    "            for j in range(BOARD_SIZE):\n",
    "                x0 = PADDING + j * CELL_SIZE\n",
    "                y0 = PADDING + i * CELL_SIZE\n",
    "                x1 = x0 + CELL_SIZE\n",
    "                y1 = y0 + CELL_SIZE\n",
    "                self.canvas.create_rectangle(x0, y0, x1, y1, outline=\"black\")\n",
    "                mark = self.game.board.board[i][j]\n",
    "                if mark != EMPTY:\n",
    "                    self.canvas.create_text((x0 + x1) // 2, (y0 + y1) // 2,\n",
    "                                            text=mark, font=(\"Arial\", 18))\n",
    "\n",
    "    def on_click(self, event):\n",
    "        if self.game.turn != PLAYER:\n",
    "            return  # Chờ lượt máy\n",
    "\n",
    "        col = (event.x - PADDING) // CELL_SIZE\n",
    "        row = (event.y - PADDING) // CELL_SIZE\n",
    "\n",
    "        if not self.game.board.is_valid_move(row, col):\n",
    "            return\n",
    "\n",
    "        self.game.board.make_move(row, col, PLAYER)\n",
    "        self.game.turn = COMPUTER\n",
    "        self.draw_board()\n",
    "        self.check_game_over()\n",
    "\n",
    "        # Để máy đánh sau một chút\n",
    "        self.root.after(500, self.ai_move)\n",
    "\n",
    "    def ai_move(self):\n",
    "        if self.game.turn == COMPUTER:\n",
    "            move = self.game.ai.best_move()\n",
    "            if move:\n",
    "                r, c = move\n",
    "                self.game.board.make_move(r, c, COMPUTER)\n",
    "            self.game.turn = PLAYER\n",
    "            self.draw_board()\n",
    "            self.check_game_over()\n",
    "\n",
    "    def check_game_over(self):\n",
    "        if self.game.board.check_win(PLAYER):\n",
    "            messagebox.showinfo(\"END\", \"You win!\")\n",
    "            self.root.quit()\n",
    "        elif self.game.board.check_win(COMPUTER):\n",
    "            messagebox.showinfo(\"END\", \"Computer win!\")\n",
    "            self.root.quit()\n",
    "        elif self.game.board.is_full():\n",
    "            messagebox.showinfo(\"END\", \"DRAW!\")\n",
    "            self.root.quit()"
   ]
  },
  {
   "cell_type": "markdown",
   "id": "b3878cad",
   "metadata": {
    "id": "b3878cad"
   },
   "source": [
    "# **CLASS GAMEMANAGER**"
   ]
  },
  {
   "cell_type": "code",
   "execution_count": 7,
   "id": "2a1e5d6e",
   "metadata": {
    "executionInfo": {
     "elapsed": 14,
     "status": "ok",
     "timestamp": 1747983243324,
     "user": {
      "displayName": "Phan Phú",
      "userId": "00153198170379898300"
     },
     "user_tz": -420
    },
    "id": "2a1e5d6e"
   },
   "outputs": [],
   "source": [
    "class GameManager:\n",
    "    def __init__(self):\n",
    "        pass\n",
    "\n",
    "    def play_console(self):\n",
    "        # Khởi chạy game trên console.\n",
    "        game = Game()\n",
    "        game.play()\n",
    "\n",
    "    def play_gui(self):\n",
    "        # Khởi chạy game với giao diện đồ họa.\n",
    "        root = tk.Tk()\n",
    "        gui = GameGUI(root)\n",
    "        root.mainloop()\n",
    "\n",
    "    def main_menu(self):\n",
    "        # Hiển thị menu lựa chọn chế độ chơi.\n",
    "        while True:\n",
    "            print(\"\\n MENU\")\n",
    "            print(\"1. Nhập tọa độ chơi trên console\")\n",
    "            print(\"2. Chơi trên giao diện GUI\")\n",
    "            print(\"3. Thoát\")\n",
    "            choice = input(\"Chọn (1-3):\" \\\n",
    "            \"\\n1. Nhập tọa độ chơi trên console\" \\\n",
    "            \"\\n2. Chơi trên giao diện GUI\" \\\n",
    "            \"\\n3. Thoát\").strip()\n",
    "            if choice == '1':\n",
    "                self.play_console()\n",
    "            elif choice == '2':\n",
    "                self.play_gui()\n",
    "            elif choice == '3':\n",
    "                print(\"Thoát chương trình.\")\n",
    "                break\n",
    "            else:\n",
    "                print(\"Lựa chọn không hợp lệ. Vui lòng chọn lại.\")"
   ]
  },
  {
   "cell_type": "markdown",
   "id": "3b6e1bcb",
   "metadata": {
    "id": "3b6e1bcb"
   },
   "source": [
    "# **MAIN**"
   ]
  },
  {
   "cell_type": "code",
   "execution_count": null,
   "id": "18ef33f7",
   "metadata": {
    "colab": {
     "base_uri": "https://localhost:8080/"
    },
    "executionInfo": {
     "elapsed": 74983,
     "status": "ok",
     "timestamp": 1747983319747,
     "user": {
      "displayName": "Phan Phú",
      "userId": "00153198170379898300"
     },
     "user_tz": -420
    },
    "id": "18ef33f7",
    "outputId": "b0b2855f-7277-444e-86df-859df7e509c3"
   },
   "outputs": [
    {
     "name": "stdout",
     "output_type": "stream",
     "text": [
      "\n",
      " MENU\n",
      "1. Nhập tọa độ chơi trên console\n",
      "2. Chơi trên giao diện GUI\n",
      "3. Thoát\n",
      "  0 1 2 3 4 5 6 7 8\n",
      "0 . . . . . . . . .\n",
      "1 . . . . . . . . .\n",
      "2 . . . . . . . . .\n",
      "3 . . . . . . . . .\n",
      "4 . . . . . . . . .\n",
      "5 . . . . . . . . .\n",
      "6 . . . . . . . . .\n",
      "7 . . . . . . . . .\n",
      "8 . . . . . . . . .\n",
      "  0 1 2 3 4 5 6 7 8\n",
      "0 . . . . . . . . .\n",
      "1 . . . . . . . . .\n",
      "2 . . . . . . . . .\n",
      "3 . . . . X . . . .\n",
      "4 . . . . . . . . .\n",
      "5 . . . . . . . . .\n",
      "6 . . . . . . . . .\n",
      "7 . . . . . . . . .\n",
      "8 . . . . . . . . .\n",
      "Computer is thinking...\n",
      "  0 1 2 3 4 5 6 7 8\n",
      "0 . . . . . . . . .\n",
      "1 . . . . . . . . .\n",
      "2 . . . . . . . . .\n",
      "3 . . . . X . . . .\n",
      "4 . . . . O . . . .\n",
      "5 . . . . . . . . .\n",
      "6 . . . . . . . . .\n",
      "7 . . . . . . . . .\n",
      "8 . . . . . . . . .\n",
      "Invalid move. Try again.\n",
      "  0 1 2 3 4 5 6 7 8\n",
      "0 . . . . . . . . .\n",
      "1 . . . . . . . . .\n",
      "2 . . . . . . . . .\n",
      "3 . . . . X . . . .\n",
      "4 . . . . O . . . .\n",
      "5 . . . . . . . . .\n",
      "6 . . . . . . . . .\n",
      "7 . . . . . . . . .\n",
      "8 . . . . . . . . .\n",
      "Invalid input. Try again.\n",
      "  0 1 2 3 4 5 6 7 8\n",
      "0 . . . . . . . . .\n",
      "1 . . . . . . . . .\n",
      "2 . . . . . . . . .\n",
      "3 . . . . X . . . .\n",
      "4 . . . . O . . . .\n",
      "5 . . . . . . . . .\n",
      "6 . . . . . . . . .\n",
      "7 . . . . . . . . .\n",
      "8 . . . . . . . . .\n",
      "Invalid input. Try again.\n",
      "  0 1 2 3 4 5 6 7 8\n",
      "0 . . . . . . . . .\n",
      "1 . . . . . . . . .\n",
      "2 . . . . . . . . .\n",
      "3 . . . . X . . . .\n",
      "4 . . . . O . . . .\n",
      "5 . . . . . . . . .\n",
      "6 . . . . . . . . .\n",
      "7 . . . . . . . . .\n",
      "8 . . . . . . . . .\n"
     ]
    }
   ],
   "source": [
    "if __name__ == \"__main__\":\n",
    "    manager = GameManager()\n",
    "    manager.main_menu()"
   ]
  }
 ],
 "metadata": {
  "colab": {
   "provenance": []
  },
  "kernelspec": {
   "display_name": "Python 3",
   "language": "python",
   "name": "python3"
  },
  "language_info": {
   "codemirror_mode": {
    "name": "ipython",
    "version": 3
   },
   "file_extension": ".py",
   "mimetype": "text/x-python",
   "name": "python",
   "nbconvert_exporter": "python",
   "pygments_lexer": "ipython3",
   "version": "3.12.0"
  }
 },
 "nbformat": 4,
 "nbformat_minor": 5
}
